{
 "cells": [
  {
   "cell_type": "markdown",
   "id": "f0ca1973",
   "metadata": {},
   "source": [
    "# Ejemplo 1: Leyendo una tabla desde SQL Server para devolver un DataFrame"
   ]
  },
  {
   "cell_type": "code",
   "execution_count": 1,
   "id": "a9968008",
   "metadata": {},
   "outputs": [],
   "source": [
    "import pyodbc\n",
    "import pandas as pd"
   ]
  },
  {
   "cell_type": "code",
   "execution_count": 2,
   "id": "f13d9328",
   "metadata": {},
   "outputs": [],
   "source": [
    "conexion = pyodbc.connect(\n",
    "    'Driver={SQL Server};'\n",
    "    'Server=DESKTOP-S9566PE\\SQLEXPRESS;'\n",
    "    'Database=TEST;'\n",
    "    'Trusted_Connection=yes;'\n",
    ")\n"
   ]
  },
  {
   "cell_type": "code",
   "execution_count": 3,
   "id": "8421829f",
   "metadata": {},
   "outputs": [],
   "source": [
    "consulta_sql = \"select * from tipo_cambio\""
   ]
  },
  {
   "cell_type": "code",
   "execution_count": 4,
   "id": "940f85bb",
   "metadata": {},
   "outputs": [],
   "source": [
    "df = pd.read_sql(consulta_sql, conexion)"
   ]
  },
  {
   "cell_type": "code",
   "execution_count": 7,
   "id": "b2e3bbfd",
   "metadata": {},
   "outputs": [
    {
     "name": "stdout",
     "output_type": "stream",
     "text": [
      "        fecha   valor\n",
      "0  2021-10-02  803.90\n",
      "1  2021-10-06  810.63\n",
      "2  2021-10-09  820.18\n",
      "3  2021-10-11  820.18\n",
      "4  2021-10-13  827.56\n"
     ]
    }
   ],
   "source": [
    "# Cinco primeros valores de la tabla\n",
    "print(df.head())"
   ]
  },
  {
   "cell_type": "code",
   "execution_count": 8,
   "id": "6202632b",
   "metadata": {},
   "outputs": [],
   "source": [
    "# Cierra la conexion\n",
    "conexion.close()"
   ]
  },
  {
   "cell_type": "markdown",
   "id": "9b3b8a22",
   "metadata": {},
   "source": [
    "# Ejemplo 2: Insertando registros a una tabla vacía de SQL Server a partir de la lectura de la misma tabla en Excel (con registros) "
   ]
  },
  {
   "cell_type": "code",
   "execution_count": 15,
   "id": "1ed149ba",
   "metadata": {},
   "outputs": [],
   "source": [
    "ventas = pd.read_excel(r'C:\\Users\\usuario\\Documents\\Ventas_comercial.xlsx')"
   ]
  },
  {
   "cell_type": "code",
   "execution_count": 16,
   "id": "46494555",
   "metadata": {},
   "outputs": [
    {
     "name": "stdout",
     "output_type": "stream",
     "text": [
      "       Fecha  Cantidad       Ventas       Costos\n",
      "0 2019-01-02        49  1024.311357  1003.511702\n",
      "1 2019-01-03        58  1027.946886  1003.951546\n",
      "2 2019-01-04        35  1031.727637  1004.391587\n",
      "3 2019-01-07        65  1035.657459  1004.831823\n",
      "4 2019-01-08        95  1039.740208  1005.272257\n"
     ]
    }
   ],
   "source": [
    "print(ventas.head())"
   ]
  },
  {
   "cell_type": "code",
   "execution_count": 17,
   "id": "a456cab7",
   "metadata": {},
   "outputs": [],
   "source": [
    "# Crea la conexion                      \n",
    "conexion = pyodbc.connect(\n",
    "    'Driver={SQL Server};'\n",
    "    'Server=DESKTOP-S9566PE\\SQLEXPRESS;'\n",
    "    'Database=TEST;'\n",
    "    'Trusted_Connection=yes;'\n",
    ")"
   ]
  },
  {
   "cell_type": "code",
   "execution_count": 18,
   "id": "cfc1739a",
   "metadata": {},
   "outputs": [],
   "source": [
    "# Crea el cursor\n",
    "cursor = conexion.cursor()"
   ]
  },
  {
   "cell_type": "code",
   "execution_count": 19,
   "id": "d9758b17",
   "metadata": {},
   "outputs": [],
   "source": [
    "for i in ventas.index:\n",
    "    \n",
    "    valores = tuple(ventas.loc[i]) \n",
    "    \n",
    "    # Guarda el string en la variable consulta\n",
    "    consulta = \"insert into ventas values ('%s', '%s','%s','%s')\" % valores\n",
    "    \n",
    "    # Valida la instrucción\n",
    "    cursor.execute(consulta)"
   ]
  },
  {
   "cell_type": "code",
   "execution_count": 20,
   "id": "34a10692",
   "metadata": {},
   "outputs": [],
   "source": [
    "# Ejecuta las instrucciones dadas al servidor.\n",
    "conexion.commit()"
   ]
  },
  {
   "cell_type": "code",
   "execution_count": 21,
   "id": "ed18a8a3",
   "metadata": {},
   "outputs": [],
   "source": [
    "# cierra el cursor\n",
    "cursor.close()"
   ]
  },
  {
   "cell_type": "code",
   "execution_count": 22,
   "id": "a228c6a7",
   "metadata": {},
   "outputs": [],
   "source": [
    "# Cierra la conexion\n",
    "conexion.close()"
   ]
  }
 ],
 "metadata": {
  "kernelspec": {
   "display_name": "Python 3",
   "language": "python",
   "name": "python3"
  },
  "language_info": {
   "codemirror_mode": {
    "name": "ipython",
    "version": 3
   },
   "file_extension": ".py",
   "mimetype": "text/x-python",
   "name": "python",
   "nbconvert_exporter": "python",
   "pygments_lexer": "ipython3",
   "version": "3.9.7"
  }
 },
 "nbformat": 4,
 "nbformat_minor": 5
}
