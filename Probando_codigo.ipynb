{
 "cells": [
  {
   "cell_type": "code",
   "execution_count": 1,
   "metadata": {},
   "outputs": [],
   "source": [
    "import pandas as pd\n"
   ]
  },
  {
   "cell_type": "code",
   "execution_count": 2,
   "metadata": {},
   "outputs": [],
   "source": [
    "df = pd.read_csv('Datos/nombres.csv')\n"
   ]
  },
  {
   "cell_type": "code",
   "execution_count": 3,
   "metadata": {},
   "outputs": [
    {
     "data": {
      "text/html": [
       "<div>\n",
       "<style scoped>\n",
       "    .dataframe tbody tr th:only-of-type {\n",
       "        vertical-align: middle;\n",
       "    }\n",
       "\n",
       "    .dataframe tbody tr th {\n",
       "        vertical-align: top;\n",
       "    }\n",
       "\n",
       "    .dataframe thead th {\n",
       "        text-align: right;\n",
       "    }\n",
       "</style>\n",
       "<table border=\"1\" class=\"dataframe\">\n",
       "  <thead>\n",
       "    <tr style=\"text-align: right;\">\n",
       "      <th></th>\n",
       "      <th>state</th>\n",
       "      <th>sex</th>\n",
       "      <th>year</th>\n",
       "      <th>name</th>\n",
       "      <th>quantity</th>\n",
       "    </tr>\n",
       "  </thead>\n",
       "  <tbody>\n",
       "    <tr>\n",
       "      <th>0</th>\n",
       "      <td>MO</td>\n",
       "      <td>F</td>\n",
       "      <td>1910</td>\n",
       "      <td>Mary</td>\n",
       "      <td>611</td>\n",
       "    </tr>\n",
       "    <tr>\n",
       "      <th>1</th>\n",
       "      <td>MO</td>\n",
       "      <td>F</td>\n",
       "      <td>1910</td>\n",
       "      <td>Helen</td>\n",
       "      <td>313</td>\n",
       "    </tr>\n",
       "    <tr>\n",
       "      <th>2</th>\n",
       "      <td>MO</td>\n",
       "      <td>F</td>\n",
       "      <td>1910</td>\n",
       "      <td>Dorothy</td>\n",
       "      <td>270</td>\n",
       "    </tr>\n",
       "    <tr>\n",
       "      <th>3</th>\n",
       "      <td>MO</td>\n",
       "      <td>F</td>\n",
       "      <td>1910</td>\n",
       "      <td>Mildred</td>\n",
       "      <td>267</td>\n",
       "    </tr>\n",
       "    <tr>\n",
       "      <th>4</th>\n",
       "      <td>MO</td>\n",
       "      <td>F</td>\n",
       "      <td>1910</td>\n",
       "      <td>Ruth</td>\n",
       "      <td>237</td>\n",
       "    </tr>\n",
       "    <tr>\n",
       "      <th>...</th>\n",
       "      <td>...</td>\n",
       "      <td>...</td>\n",
       "      <td>...</td>\n",
       "      <td>...</td>\n",
       "      <td>...</td>\n",
       "    </tr>\n",
       "    <tr>\n",
       "      <th>5933556</th>\n",
       "      <td>KS</td>\n",
       "      <td>M</td>\n",
       "      <td>2017</td>\n",
       "      <td>Xzavier</td>\n",
       "      <td>5</td>\n",
       "    </tr>\n",
       "    <tr>\n",
       "      <th>5933557</th>\n",
       "      <td>KS</td>\n",
       "      <td>M</td>\n",
       "      <td>2017</td>\n",
       "      <td>Yael</td>\n",
       "      <td>5</td>\n",
       "    </tr>\n",
       "    <tr>\n",
       "      <th>5933558</th>\n",
       "      <td>KS</td>\n",
       "      <td>M</td>\n",
       "      <td>2017</td>\n",
       "      <td>Zaiden</td>\n",
       "      <td>5</td>\n",
       "    </tr>\n",
       "    <tr>\n",
       "      <th>5933559</th>\n",
       "      <td>KS</td>\n",
       "      <td>M</td>\n",
       "      <td>2017</td>\n",
       "      <td>Zayn</td>\n",
       "      <td>5</td>\n",
       "    </tr>\n",
       "    <tr>\n",
       "      <th>5933560</th>\n",
       "      <td>KS</td>\n",
       "      <td>M</td>\n",
       "      <td>2017</td>\n",
       "      <td>Zion</td>\n",
       "      <td>5</td>\n",
       "    </tr>\n",
       "  </tbody>\n",
       "</table>\n",
       "<p>5933561 rows × 5 columns</p>\n",
       "</div>"
      ],
      "text/plain": [
       "        state sex  year     name  quantity\n",
       "0          MO   F  1910     Mary       611\n",
       "1          MO   F  1910    Helen       313\n",
       "2          MO   F  1910  Dorothy       270\n",
       "3          MO   F  1910  Mildred       267\n",
       "4          MO   F  1910     Ruth       237\n",
       "...       ...  ..   ...      ...       ...\n",
       "5933556    KS   M  2017  Xzavier         5\n",
       "5933557    KS   M  2017     Yael         5\n",
       "5933558    KS   M  2017   Zaiden         5\n",
       "5933559    KS   M  2017     Zayn         5\n",
       "5933560    KS   M  2017     Zion         5\n",
       "\n",
       "[5933561 rows x 5 columns]"
      ]
     },
     "execution_count": 3,
     "metadata": {},
     "output_type": "execute_result"
    }
   ],
   "source": [
    "df\n"
   ]
  },
  {
   "cell_type": "code",
   "execution_count": 9,
   "metadata": {},
   "outputs": [
    {
     "name": "stdout",
     "output_type": "stream",
     "text": [
      "<class 'pandas.core.frame.DataFrame'>\n",
      "RangeIndex: 5933561 entries, 0 to 5933560\n",
      "Data columns (total 5 columns):\n",
      " #   Column    Dtype \n",
      "---  ------    ----- \n",
      " 0   state     object\n",
      " 1   sex       object\n",
      " 2   year      int64 \n",
      " 3   name      object\n",
      " 4   quantity  int64 \n",
      "dtypes: int64(2), object(3)\n",
      "memory usage: 226.3+ MB\n"
     ]
    }
   ],
   "source": [
    "df.info()\n"
   ]
  }
 ],
 "metadata": {
  "interpreter": {
   "hash": "cf3cf339e959e9d2d50901116784d4fb6c43a8d5d7cad4ffa57b2d77874f95e0"
  },
  "kernelspec": {
   "display_name": "Python 3.9.7 ('base')",
   "language": "python",
   "name": "python3"
  },
  "language_info": {
   "codemirror_mode": {
    "name": "ipython",
    "version": 3
   },
   "file_extension": ".py",
   "mimetype": "text/x-python",
   "name": "python",
   "nbconvert_exporter": "python",
   "pygments_lexer": "ipython3",
   "version": "3.9.7"
  },
  "orig_nbformat": 4
 },
 "nbformat": 4,
 "nbformat_minor": 2
}
