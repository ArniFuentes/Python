{
 "cells": [
  {
   "cell_type": "markdown",
   "id": "63861f36",
   "metadata": {},
   "source": [
    "# Envío de un correo (desde una cuenta gmail) a más de un destinatario, con un mensaje personal."
   ]
  },
  {
   "cell_type": "code",
   "execution_count": null,
   "id": "f92ae5ca",
   "metadata": {},
   "outputs": [],
   "source": [
    "import getpass\n",
    "import smtplib\n",
    "import ssl\n",
    "from openpyxl import load_workbook\n",
    "from email.mime.text import MIMEText\n",
    "from email.mime.multipart import MIMEMultipart\n",
    "from email import encoders\n",
    "from email.mime.base import MIMEBase"
   ]
  },
  {
   "cell_type": "markdown",
   "id": "1cf7fd8a",
   "metadata": {},
   "source": [
    "### Credenciales del remitente"
   ]
  },
  {
   "cell_type": "code",
   "execution_count": null,
   "id": "6b4e590b",
   "metadata": {},
   "outputs": [],
   "source": [
    "usuario = input('Ingresa tu correo: ')\n",
    "password = getpass.getpass('Ingresa tu contraseña: ')"
   ]
  },
  {
   "cell_type": "markdown",
   "id": "2fab831e",
   "metadata": {},
   "source": [
    "### Datos del remitente en el mensaje"
   ]
  },
  {
   "cell_type": "code",
   "execution_count": null,
   "id": "fabb091a",
   "metadata": {},
   "outputs": [],
   "source": [
    "mensaje = MIMEMultipart('alternative')\n",
    "mensaje['Subject'] = input('Ingresa el asunto del mensaje: ')\n",
    "mensaje['From'] = input('Ingresa tu nombre: ')"
   ]
  },
  {
   "cell_type": "markdown",
   "id": "c270a845",
   "metadata": {},
   "source": [
    "### Archivo adjunto"
   ]
  },
  {
   "cell_type": "code",
   "execution_count": null,
   "id": "1781000a",
   "metadata": {},
   "outputs": [],
   "source": [
    "archivo = 'Archivo.docx'\n",
    "adjunto = open(archivo, 'rb')\n",
    "contenido_adjunto = MIMEBase('application', 'octect-stream')\n",
    "contenido_adjunto.set_payload(adjunto.read())\n",
    "encoders.encode_base64(contenido_adjunto)\n",
    "contenido_adjunto.add_header('Content-Disposition', f'attachment; filename = {archivo}')\n",
    "mensaje.attach(contenido_adjunto)"
   ]
  },
  {
   "cell_type": "markdown",
   "id": "bb2d10c0",
   "metadata": {},
   "source": [
    "### Abriendo el contexto para crear una conexion segura"
   ]
  },
  {
   "cell_type": "code",
   "execution_count": null,
   "id": "567b3dbb",
   "metadata": {},
   "outputs": [],
   "source": [
    "contexto = ssl.create_default_context()"
   ]
  },
  {
   "cell_type": "markdown",
   "id": "9d7e24e1",
   "metadata": {},
   "source": [
    "### Conexion al servidor de gmail para enviar correos"
   ]
  },
  {
   "cell_type": "code",
   "execution_count": null,
   "id": "fba8bd72",
   "metadata": {},
   "outputs": [],
   "source": [
    "server = smtplib.SMTP_SSL('smtp.gmail.com', 465, context=contexto) "
   ]
  },
  {
   "cell_type": "markdown",
   "id": "ff50928b",
   "metadata": {},
   "source": [
    "### Inicio de sesion "
   ]
  },
  {
   "cell_type": "code",
   "execution_count": null,
   "id": "8c4e04ee",
   "metadata": {},
   "outputs": [],
   "source": [
    "server.login(usuario, password)\n",
    "print('Sesión iniciada.')"
   ]
  },
  {
   "cell_type": "markdown",
   "id": "ce8fd4f1",
   "metadata": {},
   "source": [
    "### Lectura de la información desde Excel"
   ]
  },
  {
   "cell_type": "code",
   "execution_count": null,
   "id": "6f17ec49",
   "metadata": {},
   "outputs": [],
   "source": [
    "libro = load_workbook('Informe.xlsx')\n",
    "hoja = libro.get_sheet_by_name('Hoja2')\n",
    "rango = hoja['A2:C4']\n",
    "lista_datos = []\n",
    "    \n",
    "for i in rango:\n",
    "    datos_persona = [celda.value for celda in i]\n",
    "    lista_datos.append(datos_persona)"
   ]
  },
  {
   "cell_type": "markdown",
   "id": "79f6f57f",
   "metadata": {},
   "source": [
    "### Envío del correo"
   ]
  },
  {
   "cell_type": "code",
   "execution_count": null,
   "id": "fa73fbb3",
   "metadata": {},
   "outputs": [],
   "source": [
    "for i in lista_datos:\n",
    "    correo = i[2]\n",
    "    cuerpo_correo = f'Hola {i[0]}. \\n Este mes vendiste ${i[1]:,.0f}. Adjunto informe con los datos.'\n",
    "    mensaje.attach(MIMEText(cuerpo_correo, 'plain'))\n",
    "    server.sendmail(usuario, correo, mensaje.as_string())\n",
    "\n",
    "print('Los correos han sido enviados!')"
   ]
  }
 ],
 "metadata": {
  "kernelspec": {
   "display_name": "Python 3 (ipykernel)",
   "language": "python",
   "name": "python3"
  },
  "language_info": {
   "codemirror_mode": {
    "name": "ipython",
    "version": 3
   },
   "file_extension": ".py",
   "mimetype": "text/x-python",
   "name": "python",
   "nbconvert_exporter": "python",
   "pygments_lexer": "ipython3",
   "version": "3.9.7"
  }
 },
 "nbformat": 4,
 "nbformat_minor": 5
}
