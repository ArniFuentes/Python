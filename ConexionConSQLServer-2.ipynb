{
 "cells": [
  {
   "cell_type": "markdown",
   "id": "555a1988",
   "metadata": {},
   "source": [
    "# Descargar un valor numérico desde internet y guardarlo en una tabla de SQL Server"
   ]
  },
  {
   "cell_type": "code",
   "execution_count": 1,
   "id": "aeafb626",
   "metadata": {},
   "outputs": [],
   "source": [
    "from bs4 import BeautifulSoup \n",
    "import requests as req\n",
    "import pyodbc\n",
    "import datetime as dt"
   ]
  },
  {
   "cell_type": "code",
   "execution_count": 2,
   "id": "bd0cb3f4",
   "metadata": {},
   "outputs": [],
   "source": [
    "url = \"https://www.emol.com/economia/\"\n",
    "    \n",
    "headers = {\n",
    "    \"user-agent\": \"Mozilla/5.0 (Windows NT 10.0; Win64; x64) AppleWebKit/537.36 (KHTML, like Gecko)\\\n",
    "    Chrome/80.0.3987.149 Safari/537.36\"\n",
    "}  "
   ]
  },
  {
   "cell_type": "code",
   "execution_count": 3,
   "id": "86021485",
   "metadata": {},
   "outputs": [],
   "source": [
    "cod_htlm = req.get(url, headers=headers)"
   ]
  },
  {
   "cell_type": "code",
   "execution_count": 4,
   "id": "59917e3a",
   "metadata": {},
   "outputs": [],
   "source": [
    "parser = BeautifulSoup(cod_htlm.text)"
   ]
  },
  {
   "cell_type": "code",
   "execution_count": 5,
   "id": "37f9ac47",
   "metadata": {},
   "outputs": [],
   "source": [
    "html_found = parser.find('span', {'id': 'cuEconomia_cuDivisasCommodites_ValorDolar'})  "
   ]
  },
  {
   "cell_type": "code",
   "execution_count": 6,
   "id": "e907fd51",
   "metadata": {},
   "outputs": [],
   "source": [
    "frase = str(html_found)"
   ]
  },
  {
   "cell_type": "code",
   "execution_count": 7,
   "id": "cdb55459",
   "metadata": {},
   "outputs": [],
   "source": [
    "# Devuelve la posición tanto de > como </ en el str (como int)\n",
    "pos_1 = frase.find('>')\n",
    "pos_2 = frase.find('</')"
   ]
  },
  {
   "cell_type": "code",
   "execution_count": 8,
   "id": "57e3bdc8",
   "metadata": {},
   "outputs": [],
   "source": [
    "# Devuelve el valor como str con punto\n",
    "dolarStr = frase[pos_1 + 1:pos_2].replace(',', '.')"
   ]
  },
  {
   "cell_type": "code",
   "execution_count": 9,
   "id": "14678366",
   "metadata": {},
   "outputs": [],
   "source": [
    "dolar = float(dolarStr)    "
   ]
  },
  {
   "cell_type": "code",
   "execution_count": null,
   "id": "ea53e32b",
   "metadata": {},
   "outputs": [],
   "source": []
  },
  {
   "cell_type": "code",
   "execution_count": 10,
   "id": "43e2c71b",
   "metadata": {},
   "outputs": [],
   "source": [
    "fecha_hoy = dt.date.today()\n",
    "\n",
    "valores = (fecha_hoy, dolar)"
   ]
  },
  {
   "cell_type": "code",
   "execution_count": 11,
   "id": "02ca9267",
   "metadata": {},
   "outputs": [],
   "source": [
    "# Instrucciones SQL\n",
    "query_limpia =  \"delete from tipo_cambio where fecha = '%s'\" % fecha_hoy\n",
    "\n",
    "query = \"insert into tipo_cambio select '%s', '%s'\" % valores"
   ]
  },
  {
   "cell_type": "code",
   "execution_count": 12,
   "id": "af72fed3",
   "metadata": {},
   "outputs": [],
   "source": [
    "# Conectando con SQL Server\n",
    "conexion = pyodbc.connect(\n",
    "    'Driver={SQL Server};'\n",
    "    'Server=DESKTOP-S9566PE\\SQLEXPRESS;'\n",
    "    'Database=TEST;'\n",
    "    'Trusted_Connection=yes;'\n",
    ")\n",
    "\n",
    "cursor = conexion.cursor()\n",
    "\n",
    "# Validación de las intrucciones\n",
    "cursor.execute(query_limpia)\n",
    "cursor.execute(query)\n",
    "\n",
    "# Ejecución de las instrucciones\n",
    "conexion.commit()\n",
    "\n",
    "# Cierre de la conexión\n",
    "conexion.close()\n"
   ]
  },
  {
   "cell_type": "code",
   "execution_count": 13,
   "id": "9edd5139",
   "metadata": {},
   "outputs": [
    {
     "name": "stdout",
     "output_type": "stream",
     "text": [
      "Dolar cargado en la tabla tipo_cambio.\n"
     ]
    }
   ],
   "source": [
    "print('Dolar cargado en la tabla tipo_cambio.')"
   ]
  }
 ],
 "metadata": {
  "kernelspec": {
   "display_name": "Python 3",
   "language": "python",
   "name": "python3"
  },
  "language_info": {
   "codemirror_mode": {
    "name": "ipython",
    "version": 3
   },
   "file_extension": ".py",
   "mimetype": "text/x-python",
   "name": "python",
   "nbconvert_exporter": "python",
   "pygments_lexer": "ipython3",
   "version": "3.9.7"
  }
 },
 "nbformat": 4,
 "nbformat_minor": 5
}
